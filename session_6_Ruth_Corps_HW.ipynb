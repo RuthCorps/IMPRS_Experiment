{
 "cells": [
  {
   "cell_type": "markdown",
   "metadata": {},
   "source": [
    "# Session 6 Stats Homework"
   ]
  },
  {
   "cell_type": "markdown",
   "metadata": {},
   "source": [
    "## 0. Import the relevant modules"
   ]
  },
  {
   "cell_type": "code",
   "execution_count": 1,
   "metadata": {},
   "outputs": [],
   "source": [
    "import math\n",
    "import statistics\n",
    "import numpy as np\n",
    "import scipy.stats as stats\n",
    "import pandas as pd\n",
    "import matplotlib.pyplot as plt\n",
    "import seaborn as sns\n",
    "import os"
   ]
  },
  {
   "cell_type": "markdown",
   "metadata": {},
   "source": [
    "## 1. Load the data"
   ]
  },
  {
   "cell_type": "code",
   "execution_count": 12,
   "metadata": {},
   "outputs": [],
   "source": [
    "data = pd.read_csv(\"/Users/rcorps/Documents/IMPRSPython/session_6/lexdec_results.csv\")"
   ]
  },
  {
   "cell_type": "markdown",
   "metadata": {},
   "source": [
    "View the data"
   ]
  },
  {
   "cell_type": "code",
   "execution_count": 13,
   "metadata": {},
   "outputs": [
    {
     "data": {
      "text/html": [
       "<div>\n",
       "<style scoped>\n",
       "    .dataframe tbody tr th:only-of-type {\n",
       "        vertical-align: middle;\n",
       "    }\n",
       "\n",
       "    .dataframe tbody tr th {\n",
       "        vertical-align: top;\n",
       "    }\n",
       "\n",
       "    .dataframe thead th {\n",
       "        text-align: right;\n",
       "    }\n",
       "</style>\n",
       "<table border=\"1\" class=\"dataframe\">\n",
       "  <thead>\n",
       "    <tr style=\"text-align: right;\">\n",
       "      <th></th>\n",
       "      <th>Unnamed: 0</th>\n",
       "      <th>id</th>\n",
       "      <th>word</th>\n",
       "      <th>frequency</th>\n",
       "      <th>duration</th>\n",
       "      <th>reaction_time</th>\n",
       "      <th>response</th>\n",
       "      <th>subject</th>\n",
       "      <th>accuracy</th>\n",
       "    </tr>\n",
       "  </thead>\n",
       "  <tbody>\n",
       "    <tr>\n",
       "      <th>0</th>\n",
       "      <td>0</td>\n",
       "      <td>102</td>\n",
       "      <td>labber</td>\n",
       "      <td>none</td>\n",
       "      <td>0.405079</td>\n",
       "      <td>0.740607</td>\n",
       "      <td>m</td>\n",
       "      <td>1</td>\n",
       "      <td>1</td>\n",
       "    </tr>\n",
       "    <tr>\n",
       "      <th>1</th>\n",
       "      <td>1</td>\n",
       "      <td>163</td>\n",
       "      <td>plond</td>\n",
       "      <td>none</td>\n",
       "      <td>0.567166</td>\n",
       "      <td>0.662209</td>\n",
       "      <td>m</td>\n",
       "      <td>1</td>\n",
       "      <td>1</td>\n",
       "    </tr>\n",
       "    <tr>\n",
       "      <th>2</th>\n",
       "      <td>2</td>\n",
       "      <td>175</td>\n",
       "      <td>nergen</td>\n",
       "      <td>none</td>\n",
       "      <td>0.544580</td>\n",
       "      <td>1.063122</td>\n",
       "      <td>m</td>\n",
       "      <td>1</td>\n",
       "      <td>1</td>\n",
       "    </tr>\n",
       "    <tr>\n",
       "      <th>3</th>\n",
       "      <td>3</td>\n",
       "      <td>99</td>\n",
       "      <td>bij</td>\n",
       "      <td>HF</td>\n",
       "      <td>0.332517</td>\n",
       "      <td>0.751887</td>\n",
       "      <td>z</td>\n",
       "      <td>1</td>\n",
       "      <td>1</td>\n",
       "    </tr>\n",
       "    <tr>\n",
       "      <th>4</th>\n",
       "      <td>4</td>\n",
       "      <td>94</td>\n",
       "      <td>gedaan</td>\n",
       "      <td>HF</td>\n",
       "      <td>0.624558</td>\n",
       "      <td>0.748802</td>\n",
       "      <td>z</td>\n",
       "      <td>1</td>\n",
       "      <td>1</td>\n",
       "    </tr>\n",
       "    <tr>\n",
       "      <th>...</th>\n",
       "      <td>...</td>\n",
       "      <td>...</td>\n",
       "      <td>...</td>\n",
       "      <td>...</td>\n",
       "      <td>...</td>\n",
       "      <td>...</td>\n",
       "      <td>...</td>\n",
       "      <td>...</td>\n",
       "      <td>...</td>\n",
       "    </tr>\n",
       "    <tr>\n",
       "      <th>795</th>\n",
       "      <td>195</td>\n",
       "      <td>50</td>\n",
       "      <td>gisten</td>\n",
       "      <td>LF</td>\n",
       "      <td>0.546621</td>\n",
       "      <td>0.785617</td>\n",
       "      <td>z</td>\n",
       "      <td>4</td>\n",
       "      <td>1</td>\n",
       "    </tr>\n",
       "    <tr>\n",
       "      <th>796</th>\n",
       "      <td>196</td>\n",
       "      <td>195</td>\n",
       "      <td>pirrel</td>\n",
       "      <td>none</td>\n",
       "      <td>0.361179</td>\n",
       "      <td>0.733906</td>\n",
       "      <td>m</td>\n",
       "      <td>4</td>\n",
       "      <td>1</td>\n",
       "    </tr>\n",
       "    <tr>\n",
       "      <th>797</th>\n",
       "      <td>197</td>\n",
       "      <td>24</td>\n",
       "      <td>wrongel</td>\n",
       "      <td>LF</td>\n",
       "      <td>0.538685</td>\n",
       "      <td>0.802661</td>\n",
       "      <td>m</td>\n",
       "      <td>4</td>\n",
       "      <td>0</td>\n",
       "    </tr>\n",
       "    <tr>\n",
       "      <th>798</th>\n",
       "      <td>198</td>\n",
       "      <td>128</td>\n",
       "      <td>kandola</td>\n",
       "      <td>none</td>\n",
       "      <td>0.500204</td>\n",
       "      <td>0.880469</td>\n",
       "      <td>m</td>\n",
       "      <td>4</td>\n",
       "      <td>1</td>\n",
       "    </tr>\n",
       "    <tr>\n",
       "      <th>799</th>\n",
       "      <td>199</td>\n",
       "      <td>88</td>\n",
       "      <td>werd</td>\n",
       "      <td>HF</td>\n",
       "      <td>0.482426</td>\n",
       "      <td>0.998699</td>\n",
       "      <td>m</td>\n",
       "      <td>4</td>\n",
       "      <td>0</td>\n",
       "    </tr>\n",
       "  </tbody>\n",
       "</table>\n",
       "<p>800 rows × 9 columns</p>\n",
       "</div>"
      ],
      "text/plain": [
       "     Unnamed: 0   id     word frequency  duration  reaction_time response  \\\n",
       "0             0  102   labber      none  0.405079       0.740607        m   \n",
       "1             1  163    plond      none  0.567166       0.662209        m   \n",
       "2             2  175   nergen      none  0.544580       1.063122        m   \n",
       "3             3   99      bij        HF  0.332517       0.751887        z   \n",
       "4             4   94   gedaan        HF  0.624558       0.748802        z   \n",
       "..          ...  ...      ...       ...       ...            ...      ...   \n",
       "795         195   50   gisten        LF  0.546621       0.785617        z   \n",
       "796         196  195   pirrel      none  0.361179       0.733906        m   \n",
       "797         197   24  wrongel        LF  0.538685       0.802661        m   \n",
       "798         198  128  kandola      none  0.500204       0.880469        m   \n",
       "799         199   88     werd        HF  0.482426       0.998699        m   \n",
       "\n",
       "     subject  accuracy  \n",
       "0          1         1  \n",
       "1          1         1  \n",
       "2          1         1  \n",
       "3          1         1  \n",
       "4          1         1  \n",
       "..       ...       ...  \n",
       "795        4         1  \n",
       "796        4         1  \n",
       "797        4         0  \n",
       "798        4         1  \n",
       "799        4         0  \n",
       "\n",
       "[800 rows x 9 columns]"
      ]
     },
     "execution_count": 13,
     "metadata": {},
     "output_type": "execute_result"
    }
   ],
   "source": [
    "data"
   ]
  },
  {
   "cell_type": "markdown",
   "metadata": {},
   "source": [
    "## 2. Table summarizing the data"
   ]
  },
  {
   "cell_type": "code",
   "execution_count": 16,
   "metadata": {},
   "outputs": [
    {
     "name": "stdout",
     "output_type": "stream",
     "text": [
      "  frequency   mean_RT    std_RT  mean_acc   std_acc\n",
      "0        HF  0.793150  0.161619    0.8850  0.319823\n",
      "1        LF  0.863831  0.188257    0.6800  0.467647\n",
      "2      none  0.842566  0.169741    0.9375  0.242365\n"
     ]
    }
   ],
   "source": [
    "summary = data.groupby(by=\"frequency\").aggregate(\n",
    "    mean_RT=pd.NamedAgg('reaction_time', np.mean),\n",
    "    std_RT=pd.NamedAgg('reaction_time', np.std), \n",
    "    mean_acc=pd.NamedAgg('accuracy', np.mean), \n",
    "    std_acc=pd.NamedAgg('accuracy', np.std), \n",
    ")\n",
    "\n",
    "\n",
    "# reset the index (we've seen this last week)\n",
    "summary.reset_index(inplace=True)\n",
    "print(summary)"
   ]
  },
  {
   "cell_type": "markdown",
   "metadata": {},
   "source": [
    "## 3. Plot of reaction time"
   ]
  },
  {
   "cell_type": "code",
   "execution_count": 17,
   "metadata": {},
   "outputs": [
    {
     "data": {
      "image/png": "[encoded data removed]",
      "text/plain": [
       "<Figure size 432x288 with 1 Axes>"
      ]
     },
     "metadata": {
      "needs_background": "light"
     },
     "output_type": "display_data"
    }
   ],
   "source": [
    "ax = sns.violinplot(x=\"frequency\", y=\"reaction_time\", data=participants)"
   ]
  },
  {
   "cell_type": "markdown",
   "metadata": {},
   "source": [
    "## 4. Plot of accuracy"
   ]
  },
  {
   "cell_type": "code",
   "execution_count": 18,
   "metadata": {},
   "outputs": [
    {
     "data": {
      "image/png": "[encoded data removed]",
      "text/plain": [
       "<Figure size 432x288 with 1 Axes>"
      ]
     },
     "metadata": {
      "needs_background": "light"
     },
     "output_type": "display_data"
    }
   ],
   "source": [
    "ax = sns.violinplot(x=\"frequency\", y=\"accuracy\", data=participants)"
   ]
  },
  {
   "cell_type": "markdown",
   "metadata": {},
   "source": [
    "## 5. Analyse reaction times with LMM "
   ]
  },
  {
   "cell_type": "code",
   "execution_count": 20,
   "metadata": {},
   "outputs": [
    {
     "name": "stdout",
     "output_type": "stream",
     "text": [
      "           Mixed Linear Model Regression Results\n",
      "===========================================================\n",
      "Model:            MixedLM Dependent Variable: reaction_time\n",
      "No. Observations: 800     Method:             REML         \n",
      "No. Groups:       200     Scale:              0.0298       \n",
      "Min. group size:  4       Log-Likelihood:     260.9062     \n",
      "Max. group size:  4       Converged:          Yes          \n",
      "Mean group size:  4.0                                      \n",
      "-----------------------------------------------------------\n",
      "                  Coef. Std.Err.   z    P>|z| [0.025 0.975]\n",
      "-----------------------------------------------------------\n",
      "Intercept         0.793    0.012 64.983 0.000  0.769  0.817\n",
      "frequency[T.LF]   0.071    0.017  4.095 0.000  0.037  0.105\n",
      "frequency[T.none] 0.049    0.015  3.306 0.001  0.020  0.079\n",
      "id Var            0.000    0.005                           \n",
      "===========================================================\n",
      "\n"
     ]
    },
    {
     "name": "stderr",
     "output_type": "stream",
     "text": [
      "/Library/Frameworks/Python.framework/Versions/3.8/lib/python3.8/site-packages/statsmodels/regression/mixed_linear_model.py:2237: ConvergenceWarning: The MLE may be on the boundary of the parameter space.\n",
      "  warnings.warn(msg, ConvergenceWarning)\n"
     ]
    }
   ],
   "source": [
    "import statsmodels.formula.api as smf\n",
    "\n",
    "lmm0 = smf.mixedlm(\"reaction_time ~ frequency\", participants, groups = 'id', re_formula='1')\n",
    "lmm0f = lmm0.fit()\n",
    "print(lmm0f.summary())"
   ]
  }
 ],
 "metadata": {
  "kernelspec": {
   "display_name": "Python 3",
   "language": "python",
   "name": "python3"
  },
  "language_info": {
   "codemirror_mode": {
    "name": "ipython",
    "version": 3
   },
   "file_extension": ".py",
   "mimetype": "text/x-python",
   "name": "python",
   "nbconvert_exporter": "python",
   "pygments_lexer": "ipython3",
   "version": "3.8.0"
  }
 },
 "nbformat": 4,
 "nbformat_minor": 4
}
